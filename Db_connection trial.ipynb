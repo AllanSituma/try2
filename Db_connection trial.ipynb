{
 "cells": [
  {
   "cell_type": "markdown",
   "metadata": {},
   "source": [
    "# My first project:"
   ]
  },
  {
   "cell_type": "markdown",
   "metadata": {},
   "source": [
    "## Steps\n",
    " - Includes setting up jupyter notebooks\n",
    " - Setting up postgresql\n",
    " - Dowloading and uploading the sample dvd rental database to postgresql\n",
    " - dowloading the psycopg2 package for enabling connection to a db'"
   ]
  },
  {
   "cell_type": "markdown",
   "metadata": {},
   "source": [
    "First step involves importing the pandas library and psycopg2"
   ]
  },
  {
   "cell_type": "code",
   "execution_count": 1,
   "metadata": {},
   "outputs": [],
   "source": [
    "import pandas as pd\n",
    "import psycopg2\n",
    "%matplotlib inline \n",
    "import matplotlib.pyplot as plt"
   ]
  },
  {
   "cell_type": "markdown",
   "metadata": {},
   "source": [
    "First we connect to the Postgresql DB. We will be working with the sample_db.\n",
    "It contains data relating to a movie rental service"
   ]
  },
  {
   "cell_type": "code",
   "execution_count": 2,
   "metadata": {},
   "outputs": [],
   "source": [
    "conn = psycopg2.connect( \"host=localhost user=postgres password=andru3000 dbname=sample_db\")"
   ]
  },
  {
   "cell_type": "markdown",
   "metadata": {},
   "source": [
    "First query to test the connnection. Selecting five actors ordered by their first name"
   ]
  },
  {
   "cell_type": "code",
   "execution_count": 49,
   "metadata": {},
   "outputs": [
    {
     "data": {
      "text/html": [
       "<div>\n",
       "<style scoped>\n",
       "    .dataframe tbody tr th:only-of-type {\n",
       "        vertical-align: middle;\n",
       "    }\n",
       "\n",
       "    .dataframe tbody tr th {\n",
       "        vertical-align: top;\n",
       "    }\n",
       "\n",
       "    .dataframe thead th {\n",
       "        text-align: right;\n",
       "    }\n",
       "</style>\n",
       "<table border=\"1\" class=\"dataframe\">\n",
       "  <thead>\n",
       "    <tr style=\"text-align: right;\">\n",
       "      <th></th>\n",
       "      <th>actor_id</th>\n",
       "      <th>first_name</th>\n",
       "      <th>last_name</th>\n",
       "    </tr>\n",
       "  </thead>\n",
       "  <tbody>\n",
       "    <tr>\n",
       "      <th>0</th>\n",
       "      <td>132</td>\n",
       "      <td>Adam</td>\n",
       "      <td>Hopper</td>\n",
       "    </tr>\n",
       "    <tr>\n",
       "      <th>1</th>\n",
       "      <td>71</td>\n",
       "      <td>Adam</td>\n",
       "      <td>Grant</td>\n",
       "    </tr>\n",
       "    <tr>\n",
       "      <th>2</th>\n",
       "      <td>165</td>\n",
       "      <td>Al</td>\n",
       "      <td>Garland</td>\n",
       "    </tr>\n",
       "    <tr>\n",
       "      <th>3</th>\n",
       "      <td>173</td>\n",
       "      <td>Alan</td>\n",
       "      <td>Dreyfuss</td>\n",
       "    </tr>\n",
       "    <tr>\n",
       "      <th>4</th>\n",
       "      <td>125</td>\n",
       "      <td>Albert</td>\n",
       "      <td>Nolte</td>\n",
       "    </tr>\n",
       "  </tbody>\n",
       "</table>\n",
       "</div>"
      ],
      "text/plain": [
       "   actor_id first_name last_name\n",
       "0       132       Adam    Hopper\n",
       "1        71       Adam     Grant\n",
       "2       165         Al   Garland\n",
       "3       173       Alan  Dreyfuss\n",
       "4       125     Albert     Nolte"
      ]
     },
     "execution_count": 49,
     "metadata": {},
     "output_type": "execute_result"
    }
   ],
   "source": [
    "q = \"select actor_id,first_name,last_name from actor order by first_name limit 5\"\n",
    "pd.read_sql_query(q,conn)"
   ]
  },
  {
   "cell_type": "markdown",
   "metadata": {},
   "source": [
    "R rated movies in alphabetical order"
   ]
  },
  {
   "cell_type": "code",
   "execution_count": 54,
   "metadata": {},
   "outputs": [
    {
     "data": {
      "text/html": [
       "<div>\n",
       "<style scoped>\n",
       "    .dataframe tbody tr th:only-of-type {\n",
       "        vertical-align: middle;\n",
       "    }\n",
       "\n",
       "    .dataframe tbody tr th {\n",
       "        vertical-align: top;\n",
       "    }\n",
       "\n",
       "    .dataframe thead th {\n",
       "        text-align: right;\n",
       "    }\n",
       "</style>\n",
       "<table border=\"1\" class=\"dataframe\">\n",
       "  <thead>\n",
       "    <tr style=\"text-align: right;\">\n",
       "      <th></th>\n",
       "      <th>title</th>\n",
       "      <th>rating</th>\n",
       "    </tr>\n",
       "  </thead>\n",
       "  <tbody>\n",
       "    <tr>\n",
       "      <th>0</th>\n",
       "      <td>Airport Pollock</td>\n",
       "      <td>R</td>\n",
       "    </tr>\n",
       "    <tr>\n",
       "      <th>1</th>\n",
       "      <td>Alone Trip</td>\n",
       "      <td>R</td>\n",
       "    </tr>\n",
       "    <tr>\n",
       "      <th>2</th>\n",
       "      <td>Amelie Hellfighters</td>\n",
       "      <td>R</td>\n",
       "    </tr>\n",
       "    <tr>\n",
       "      <th>3</th>\n",
       "      <td>American Circus</td>\n",
       "      <td>R</td>\n",
       "    </tr>\n",
       "    <tr>\n",
       "      <th>4</th>\n",
       "      <td>Anaconda Confessions</td>\n",
       "      <td>R</td>\n",
       "    </tr>\n",
       "  </tbody>\n",
       "</table>\n",
       "</div>"
      ],
      "text/plain": [
       "                  title rating\n",
       "0       Airport Pollock      R\n",
       "1            Alone Trip      R\n",
       "2   Amelie Hellfighters      R\n",
       "3       American Circus      R\n",
       "4  Anaconda Confessions      R"
      ]
     },
     "execution_count": 54,
     "metadata": {},
     "output_type": "execute_result"
    }
   ],
   "source": [
    "q2 = \"select title,rating from film where rating = 'R'order by title asc limit 5\"\n",
    "pd.read_sql_query(q2,conn)"
   ]
  },
  {
   "cell_type": "markdown",
   "metadata": {},
   "source": [
    "Top customers who have spent above average spend renting movies"
   ]
  },
  {
   "cell_type": "code",
   "execution_count": 60,
   "metadata": {},
   "outputs": [
    {
     "data": {
      "text/plain": [
       "<BarContainer object of 10 artists>"
      ]
     },
     "execution_count": 60,
     "metadata": {},
     "output_type": "execute_result"
    },
    {
     "data": {
      "image/png": "[encoded data removed]",
      "text/plain": [
       "<Figure size 432x288 with 1 Axes>"
      ]
     },
     "metadata": {},
     "output_type": "display_data"
    }
   ],
   "source": [
    "q3 = \"\"\"with value_cust as (\n",
    "                  select first_name,sum(amount)as cust_value\n",
    "                  from customer c\n",
    "                  join payment p\n",
    "                  on c.customer_id = p.customer_id\n",
    "                  group by first_name\n",
    "                  order by cust_value desc)\n",
    "\n",
    "                  select first_name,cust_value\n",
    "                  from value_cust v\n",
    "                  where v.cust_value >(select round (avg(cust_value),3)from value_cust)\n",
    "                  limit 10\"\"\"\n",
    "ft = pd.read_sql_query(q3,conn)\n",
    "plt.bar(ft.first_name,ft.cust_value)"
   ]
  },
  {
   "cell_type": "markdown",
   "metadata": {},
   "source": [
    "Top staff by sales"
   ]
  },
  {
   "cell_type": "code",
   "execution_count": 67,
   "metadata": {},
   "outputs": [
    {
     "data": {
      "text/html": [
       "<div>\n",
       "<style scoped>\n",
       "    .dataframe tbody tr th:only-of-type {\n",
       "        vertical-align: middle;\n",
       "    }\n",
       "\n",
       "    .dataframe tbody tr th {\n",
       "        vertical-align: top;\n",
       "    }\n",
       "\n",
       "    .dataframe thead th {\n",
       "        text-align: right;\n",
       "    }\n",
       "</style>\n",
       "<table border=\"1\" class=\"dataframe\">\n",
       "  <thead>\n",
       "    <tr style=\"text-align: right;\">\n",
       "      <th></th>\n",
       "      <th>first_name</th>\n",
       "      <th>last_name</th>\n",
       "      <th>perc_sales</th>\n",
       "    </tr>\n",
       "  </thead>\n",
       "  <tbody>\n",
       "    <tr>\n",
       "      <th>0</th>\n",
       "      <td>Jon</td>\n",
       "      <td>Stephens</td>\n",
       "      <td>51.0</td>\n",
       "    </tr>\n",
       "    <tr>\n",
       "      <th>1</th>\n",
       "      <td>Mike</td>\n",
       "      <td>Hillyer</td>\n",
       "      <td>49.0</td>\n",
       "    </tr>\n",
       "  </tbody>\n",
       "</table>\n",
       "</div>"
      ],
      "text/plain": [
       "  first_name last_name  perc_sales\n",
       "0        Jon  Stephens        51.0\n",
       "1       Mike   Hillyer        49.0"
      ]
     },
     "execution_count": 67,
     "metadata": {},
     "output_type": "execute_result"
    },
    {
     "data": {
      "image/png": "[encoded data removed]",
      "text/plain": [
       "<Figure size 432x288 with 1 Axes>"
      ]
     },
     "metadata": {},
     "output_type": "display_data"
    }
   ],
   "source": [
    "q4 = \"\"\"select s.first_name,s.last_name,sum(p.amount) total_sales\n",
    "        from staff s\n",
    "        join payment p\n",
    "        on s.staff_id = p.staff_id\n",
    "        group by s.first_name,s.last_name\n",
    "        order by total_sales desc\"\"\"\n",
    "ft2 = pd.read_sql_query(q4,conn)\n",
    "plt.bar(ft2.first_name,ft2.total_sales)\n",
    "ft2\n",
    "q5 = \"\"\"with sales_per_staff as(\n",
    "              select s.first_name,s.last_name,sum(p.amount) total_sales\n",
    "             from staff s\n",
    "             join payment p\n",
    "             on s.staff_id = p.staff_id\n",
    "             group by s.first_name,s.last_name\n",
    "             order by total_sales desc)\n",
    "\n",
    "             select s.first_name,s.last_name,\n",
    "             Round(total_sales/(select sum(total_sales) from sales_per_staff),2)*100 Perc_sales\n",
    "             from sales_per_staff as s \"\"\"\n",
    "ft3 = pd.read_sql_query(q5,conn)\n",
    "ft3"
   ]
  },
  {
   "cell_type": "markdown",
   "metadata": {},
   "source": [
    "Movies each staff rented out per category"
   ]
  },
  {
   "cell_type": "code",
   "execution_count": 68,
   "metadata": {},
   "outputs": [
    {
     "data": {
      "text/html": [
       "<div>\n",
       "<style scoped>\n",
       "    .dataframe tbody tr th:only-of-type {\n",
       "        vertical-align: middle;\n",
       "    }\n",
       "\n",
       "    .dataframe tbody tr th {\n",
       "        vertical-align: top;\n",
       "    }\n",
       "\n",
       "    .dataframe thead th {\n",
       "        text-align: right;\n",
       "    }\n",
       "</style>\n",
       "<table border=\"1\" class=\"dataframe\">\n",
       "  <thead>\n",
       "    <tr style=\"text-align: right;\">\n",
       "      <th></th>\n",
       "      <th>first_name</th>\n",
       "      <th>r_sold</th>\n",
       "      <th>g_sold</th>\n",
       "      <th>pg13_sold</th>\n",
       "      <th>nc17_sold</th>\n",
       "      <th>pg_sold</th>\n",
       "    </tr>\n",
       "  </thead>\n",
       "  <tbody>\n",
       "    <tr>\n",
       "      <th>0</th>\n",
       "      <td>Mike</td>\n",
       "      <td>1499</td>\n",
       "      <td>1234</td>\n",
       "      <td>1578</td>\n",
       "      <td>1507</td>\n",
       "      <td>1474</td>\n",
       "    </tr>\n",
       "    <tr>\n",
       "      <th>1</th>\n",
       "      <td>Jon</td>\n",
       "      <td>1398</td>\n",
       "      <td>1274</td>\n",
       "      <td>1667</td>\n",
       "      <td>1501</td>\n",
       "      <td>1464</td>\n",
       "    </tr>\n",
       "  </tbody>\n",
       "</table>\n",
       "</div>"
      ],
      "text/plain": [
       "  first_name  r_sold  g_sold  pg13_sold  nc17_sold  pg_sold\n",
       "0       Mike    1499    1234       1578       1507     1474\n",
       "1        Jon    1398    1274       1667       1501     1464"
      ]
     },
     "execution_count": 68,
     "metadata": {},
     "output_type": "execute_result"
    }
   ],
   "source": [
    "q6 = \"\"\"with sold_movie as (\n",
    "select s.first_name,r.rental_id,f.title,f.rating\n",
    "from staff s\n",
    "join payment p on s.staff_id = p.staff_id\n",
    "join rental r on p.rental_id = r.rental_id\n",
    "join inventory i on r.inventory_id = i.inventory_id\n",
    "join film f on i.film_id = f.film_id)\n",
    "\n",
    "select first_name,\n",
    "       sum(case when rating = 'R'then 1 else 0 end) R_sold,\n",
    "\t   sum(case when rating = 'G' then 1 else 0 end) G_sold,\n",
    "\t   sum(case when rating = 'PG-13' then 1 else 0 end) PG13_sold,\n",
    "\t   sum(case when rating = 'NC-17' then 1 else 0 end) NC17_sold,\n",
    "\t   sum(case when rating = 'PG' then 1 else 0 end) PG_sold\n",
    "from sold_movie\n",
    "group by first_name\"\"\"\n",
    "pd.read_sql_query(q6,conn)"
   ]
  },
  {
   "cell_type": "markdown",
   "metadata": {},
   "source": [
    "Movie rentals by category"
   ]
  },
  {
   "cell_type": "code",
   "execution_count": 11,
   "metadata": {},
   "outputs": [
    {
     "data": {
      "text/plain": [
       "<matplotlib.axes._subplots.AxesSubplot at 0x20a8e1c1390>"
      ]
     },
     "execution_count": 11,
     "metadata": {},
     "output_type": "execute_result"
    },
    {
     "data": {
      "image/png": "[encoded data removed]",
      "text/plain": [
       "<Figure size 432x288 with 1 Axes>"
      ]
     },
     "metadata": {},
     "output_type": "display_data"
    }
   ],
   "source": [
    "q7 = \"\"\"with sold_movie as (\n",
    "select s.first_name,r.rental_id,f.title,f.rating\n",
    "from staff s\n",
    "join payment p on s.staff_id = p.staff_id\n",
    "join rental r on p.rental_id = r.rental_id\n",
    "join inventory i on r.inventory_id = i.inventory_id\n",
    "join film f on i.film_id = f.film_id)\n",
    "\n",
    "\n",
    "select sum(case when rating = 'PG-13' then 1 else 0 end) PG13_sold,\n",
    "\t   sum(case when rating = 'NC-17' then 1 else 0 end) NC17_sold,\n",
    "       sum(case when rating = 'PG' then 1 else 0 end) PG_sold,\n",
    "       sum(case when rating = 'R'then 1 else 0 end) R_sold,\n",
    "\t   sum(case when rating = 'G' then 1 else 0 end) G_sold       \n",
    "from sold_movie\"\"\"\n",
    "ft4 = pd.read_sql_query(q7,conn)\n",
    "ft4 = pd.DataFrame(ft4).T\n",
    "ft4.plot(kind = 'bar')"
   ]
  },
  {
   "cell_type": "markdown",
   "metadata": {},
   "source": [
    "Time series of payments"
   ]
  },
  {
   "cell_type": "code",
   "execution_count": 9,
   "metadata": {},
   "outputs": [
    {
     "data": {
      "text/plain": [
       "<matplotlib.axes._subplots.AxesSubplot at 0x20a8d08a630>"
      ]
     },
     "execution_count": 9,
     "metadata": {},
     "output_type": "execute_result"
    },
    {
     "data": {
      "image/png": "[encoded data removed]",
      "text/plain": [
       "<Figure size 432x288 with 1 Axes>"
      ]
     },
     "metadata": {},
     "output_type": "display_data"
    }
   ],
   "source": [
    "q8 = \"\"\" select cast(payment_date as date) p_date,sum(amount) daily_amount\n",
    "         from payment\n",
    "         group by p_date\n",
    "         order by p_date asc \"\"\"\n",
    "pd.read_sql_query(q8,conn)\n",
    "ft5 = pd.read_sql_query(q8,conn)\n",
    "ts = ft5.set_index('p_date')\n",
    "ts.plot(kind = 'bar')"
   ]
  },
  {
   "cell_type": "code",
   "execution_count": null,
   "metadata": {},
   "outputs": [],
   "source": []
  }
 ],
 "metadata": {
  "kernelspec": {
   "display_name": "Python 3",
   "language": "python",
   "name": "python3"
  },
  "language_info": {
   "codemirror_mode": {
    "name": "ipython",
    "version": 3
   },
   "file_extension": ".py",
   "mimetype": "text/x-python",
   "name": "python",
   "nbconvert_exporter": "python",
   "pygments_lexer": "ipython3",
   "version": "3.6.5"
  }
 },
 "nbformat": 4,
 "nbformat_minor": 2
}
